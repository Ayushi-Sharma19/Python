{
  "nbformat": 4,
  "nbformat_minor": 0,
  "metadata": {
    "colab": {
      "provenance": [],
      "authorship_tag": "ABX9TyOw9fcpdeN8X+jX3bcdz80+",
      "include_colab_link": true
    },
    "kernelspec": {
      "name": "python3",
      "display_name": "Python 3"
    },
    "language_info": {
      "name": "python"
    }
  },
  "cells": [
    {
      "cell_type": "markdown",
      "metadata": {
        "id": "view-in-github",
        "colab_type": "text"
      },
      "source": [
        "<a href=\"https://colab.research.google.com/github/Ayushi-Sharma19/Python/blob/main/Functions.ipynb\" target=\"_parent\"><img src=\"https://colab.research.google.com/assets/colab-badge.svg\" alt=\"Open In Colab\"/></a>"
      ]
    },
    {
      "cell_type": "code",
      "execution_count": null,
      "metadata": {
        "colab": {
          "base_uri": "https://localhost:8080/"
        },
        "id": "ad76QW1E2rkM",
        "outputId": "4d9dac51-5664-4676-a553-c64a6145da56"
      },
      "outputs": [
        {
          "output_type": "stream",
          "name": "stdout",
          "text": [
            "['I', 'c', 't', 'e', 'w', 'm']\n",
            "['M', 't', 'F', 'b', 'w', 'y']\n"
          ]
        }
      ],
      "source": [
        "def extract_first_letters(sentence):\n",
        "    words = sentence.split()\n",
        "    first_letters = [word[0] for word in words]\n",
        "    return first_letters\n",
        "\n",
        "heisenberg_quote = \"It ceases to exist without me.\"\n",
        "starwars_quote = \"May the Force be with you.\"\n",
        "\n",
        "print(extract_first_letters(heisenberg_quote))\n",
        "print(extract_first_letters(starwars_quote))"
      ]
    },
    {
      "cell_type": "code",
      "source": [
        "def factorial(num):\n",
        "    if num < 0:\n",
        "        return \"Factorial is not defined for negative numbers.\"\n",
        "\n",
        "    result = 1\n",
        "    for i in range(1, num + 1):\n",
        "        result *= i\n",
        "\n",
        "    return result\n",
        "\n",
        "print(factorial(5))\n",
        "print(factorial(8))"
      ],
      "metadata": {
        "colab": {
          "base_uri": "https://localhost:8080/"
        },
        "id": "2lE0Ihpm2492",
        "outputId": "36709cca-0bd2-4be4-bd0d-3885c9832961"
      },
      "execution_count": null,
      "outputs": [
        {
          "output_type": "stream",
          "name": "stdout",
          "text": [
            "120\n",
            "40320\n"
          ]
        }
      ]
    },
    {
      "cell_type": "code",
      "source": [
        "def assign_quarter(user_date):\n",
        "    month = int(user_date[5:7])\n",
        "\n",
        "    if 1 <= month <= 3:\n",
        "        quarter = \"Q1\"\n",
        "    elif 4 <= month <= 6:\n",
        "        quarter = \"Q2\"\n",
        "    elif 7 <= month <= 9:\n",
        "        quarter = \"Q3\"\n",
        "    else:\n",
        "        quarter = \"Q4\"\n",
        "\n",
        "    print(f\"The corresponding quarter for {user_date} is {quarter}\")\n",
        "\n",
        "sample_date = \"2020-07-01\"\n",
        "assign_quarter(sample_date)"
      ],
      "metadata": {
        "colab": {
          "base_uri": "https://localhost:8080/"
        },
        "id": "zxpoUuz825-I",
        "outputId": "9ccfff70-7b61-4bff-c2f6-9ba103cc34e8"
      },
      "execution_count": null,
      "outputs": [
        {
          "output_type": "stream",
          "name": "stdout",
          "text": [
            "The corresponding quarter for 2020-07-01 is Q3\n"
          ]
        }
      ]
    },
    {
      "cell_type": "code",
      "source": [
        "def check_even_or_odd(num):\n",
        "    return \"Even\" if num % 2 == 0 else \"Odd\"\n",
        "\n",
        "print(check_even_or_odd(18))\n",
        "print(check_even_or_odd(7))"
      ],
      "metadata": {
        "colab": {
          "base_uri": "https://localhost:8080/"
        },
        "id": "jis04NPW266j",
        "outputId": "3cf6c9c2-6ca1-44ea-a157-999149a66bff"
      },
      "execution_count": null,
      "outputs": [
        {
          "output_type": "stream",
          "name": "stdout",
          "text": [
            "Even\n",
            "Odd\n"
          ]
        }
      ]
    },
    {
      "cell_type": "code",
      "source": [
        "def list_append(lst, element):\n",
        "    lst.append(element)\n",
        "    return lst\n",
        "\n",
        "heights = [172, 175, 170, 200]\n",
        "heights = list_append(heights, 180)\n",
        "print(heights)"
      ],
      "metadata": {
        "colab": {
          "base_uri": "https://localhost:8080/"
        },
        "id": "vuLRCFld27r6",
        "outputId": "f4eecce5-82d3-4d83-9d45-fa0e14d30614"
      },
      "execution_count": null,
      "outputs": [
        {
          "output_type": "stream",
          "name": "stdout",
          "text": [
            "[172, 175, 170, 200, 180]\n"
          ]
        }
      ]
    },
    {
      "cell_type": "code",
      "source": [
        "len(\"Hello\")\n",
        "\"Hello\".upper()"
      ],
      "metadata": {
        "colab": {
          "base_uri": "https://localhost:8080/",
          "height": 35
        },
        "id": "Iwdy9mXA28x_",
        "outputId": "3c7eae96-e6a7-4f4c-e317-6c8d25ef88b4"
      },
      "execution_count": null,
      "outputs": [
        {
          "output_type": "execute_result",
          "data": {
            "text/plain": [
              "'HELLO'"
            ],
            "application/vnd.google.colaboratory.intrinsic+json": {
              "type": "string"
            }
          },
          "metadata": {},
          "execution_count": 4
        }
      ]
    }
  ]
}