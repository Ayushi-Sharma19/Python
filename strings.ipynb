{
  "nbformat": 4,
  "nbformat_minor": 0,
  "metadata": {
    "colab": {
      "provenance": []
    },
    "kernelspec": {
      "name": "python3",
      "display_name": "Python 3"
    },
    "language_info": {
      "name": "python"
    }
  },
  "cells": [
    {
      "cell_type": "code",
      "execution_count": null,
      "metadata": {
        "colab": {
          "base_uri": "https://localhost:8080/"
        },
        "id": "vfdajgm-G2fo",
        "outputId": "5fecd459-144d-491c-fd18-31ee9b41fe2f"
      },
      "outputs": [
        {
          "output_type": "stream",
          "name": "stdout",
          "text": [
            "This is a string\n",
            "<class 'str'>\n",
            "single quote string\n",
            "single \"quote\"string\n",
            "#\n",
            "Used to print a new line\n",
            "\n",
            " see what I mean?\n"
          ]
        },
        {
          "output_type": "execute_result",
          "data": {
            "text/plain": [
              "6"
            ]
          },
          "metadata": {},
          "execution_count": 28
        }
      ],
      "source": [
        "a=\"This is a string\"\n",
        "b=type(a)\n",
        "print(a)\n",
        "print(b)\n",
        "c='single quote string'\n",
        "print(c)\n",
        "d='single \"quote\"string'\n",
        "print(d)\n",
        "hashtag=\"#\"\n",
        "print(hashtag)\n",
        "type(hashtag)\n",
        "#print'Linear Algebra)\n",
        "\n",
        "#print('Calculus')\n",
        "\n",
        "print('Used to print a new line')\n",
        "print(\"\\n see what I mean?\")\n",
        "alg=\"re on\"\n",
        "len(algo)"
      ]
    },
    {
      "cell_type": "code",
      "source": [
        "# Assign string as a string\n",
        "\n",
        "string = 'Principal Component Analysis!'\n",
        "\n",
        "# Print the object\n",
        "\n",
        "print(string)\n",
        "\n",
        "# Show first element (in this case a letter)\n",
        "\n",
        "print(string[-2])\n",
        "print(string[15])\n",
        "print(len(string))\n",
        "print(string[28])\n",
        "print(string[-2])\n",
        "print(string)\n",
        "\n",
        "print(string[1:])\n",
        "string[13]\n",
        "string[12]\n",
        "print(string[10:])\n",
        "print(string[3:5])\n",
        "print(string[2:4])\n",
        "print(string[:])\n",
        "\n",
        "print(string)\n",
        "string[-2]\n",
        "string[-1:-4]\n",
        "print(string)\n",
        "print(string[::3])\n",
        "print(string[::3])\n",
        "print(string[5:15:5])\n",
        "string[::1]\n",
        "print(string)\n",
        "string[::-1]\n",
        "string[2:4:-1]\n",
        "string [4:2:-1]\n",
        "\n",
        "s = 'foobar'\n",
        "s[0::-3]"
      ],
      "metadata": {
        "id": "6gZlPMSqL2-I",
        "colab": {
          "base_uri": "https://localhost:8080/",
          "height": 362
        },
        "outputId": "ae4d2230-0a59-44d9-f26f-0495f34c3614"
      },
      "execution_count": null,
      "outputs": [
        {
          "output_type": "stream",
          "name": "stdout",
          "text": [
            "Principal Component Analysis!\n",
            "s\n",
            "n\n",
            "29\n",
            "!\n",
            "s\n",
            "Principal Component Analysis!\n",
            "rincipal Component Analysis!\n",
            "Component Analysis!\n",
            "nc\n",
            "in\n",
            "Principal Component Analysis!\n",
            "Principal Component Analysis!\n",
            "Principal Component Analysis!\n",
            "Pnp mntnys\n",
            "Pnp mntnys\n",
            "iC\n",
            "Principal Component Analysis!\n"
          ]
        },
        {
          "output_type": "execute_result",
          "data": {
            "text/plain": [
              "'f'"
            ],
            "application/vnd.google.colaboratory.intrinsic+json": {
              "type": "string"
            }
          },
          "metadata": {},
          "execution_count": 26
        }
      ]
    },
    {
      "cell_type": "code",
      "source": [
        "string = \"hello\"\n",
        "\n",
        "print(string[-2])\n",
        "print(string[-1:-4:-1])\n",
        "print(string)\n",
        "print(string[::3])\n",
        "\n",
        "string1 = 'abc'\n",
        "string2 = 'def'\n",
        "\n",
        "print(string1 + string2)\n",
        "print(string1 + str(4) + string2)\n",
        "\n",
        "num = 4\n",
        "str(num)\n",
        "\n",
        "string1 = 'abc'\n",
        "string2 = 'def'\n",
        "\n",
        "print(string1 + '4' + string2)\n",
        "\n",
        "letters = 'wubba'\n",
        "print(letters * 2)"
      ],
      "metadata": {
        "colab": {
          "base_uri": "https://localhost:8080/"
        },
        "id": "Mg7wbXIDQgxh",
        "outputId": "9a6fe4f0-a789-4359-c931-6f9ae5fe83a0"
      },
      "execution_count": null,
      "outputs": [
        {
          "output_type": "stream",
          "name": "stdout",
          "text": [
            "l\n",
            "oll\n",
            "hello\n",
            "hl\n",
            "abcdef\n",
            "abc4def\n",
            "abc4def\n",
            "wubbawubba\n"
          ]
        }
      ]
    },
    {
      "cell_type": "code",
      "source": [
        "algorithm = \"Neural Networks\"\n",
        "\n",
        "print(algorithm)\n",
        "print(len(algorithm))\n",
        "print(algorithm.lower())\n",
        "print(algorithm.upper())\n",
        "\n",
        "print(algorithm.count(\"Networks\"))\n",
        "print(algorithm.count(\"eu\"))\n",
        "print(algorithm.count(\"\"))\n",
        "print(algorithm.count(\"Neural\"))\n",
        "print(algorithm.count(\"Neurla\"))\n",
        "\n",
        "print(algorithm.find(\"r\"))\n",
        "print(algorithm.find(\"Neural\"))\n",
        "print(algorithm.find(\"Box\"))"
      ],
      "metadata": {
        "id": "eZ3PZsnmSkfe",
        "outputId": "ee51cd6b-5a2b-4809-bd3c-bb77387e7df2",
        "colab": {
          "base_uri": "https://localhost:8080/"
        }
      },
      "execution_count": null,
      "outputs": [
        {
          "output_type": "stream",
          "name": "stdout",
          "text": [
            "Neural Networks\n",
            "15\n",
            "neural networks\n",
            "NEURAL NETWORKS\n",
            "1\n",
            "1\n",
            "16\n",
            "1\n",
            "0\n",
            "3\n",
            "0\n",
            "-1\n"
          ]
        }
      ]
    },
    {
      "cell_type": "code",
      "source": [
        "algorithm = \"Neural Networks\"\n",
        "\n",
        "print(algorithm)\n",
        "print(len(algorithm))\n",
        "print(algorithm.lower())\n",
        "print(algorithm.upper())"
      ],
      "metadata": {
        "id": "YMomjgbFSmWx",
        "outputId": "2f5decda-d1b1-4bb2-dc99-b10112cc9e5b",
        "colab": {
          "base_uri": "https://localhost:8080/"
        }
      },
      "execution_count": null,
      "outputs": [
        {
          "output_type": "stream",
          "name": "stdout",
          "text": [
            "Neural Networks\n",
            "15\n",
            "neural networks\n",
            "NEURAL NETWORKS\n"
          ]
        }
      ]
    },
    {
      "cell_type": "code",
      "source": [
        "algorithm = \"Neural Networks\"\n",
        "\n",
        "algorithm_revised = algorithm.replace(\"Neural\", \"Artificial Neural\")\n",
        "print(algorithm_revised)\n",
        "print(algorithm)\n",
        "\n",
        "first_name = \"Rahul\"\n",
        "last_name = \"Modi\"\n",
        "\n",
        "full_name = f\"Left plus right makes {last_name} {first_name}\"\n",
        "print(full_name)\n",
        "\n",
        "print(first_name + \" \" + last_name)\n",
        "\n",
        "first_name = \"Vikash\"\n",
        "middle_name = \"\"\n",
        "last_name = \"Srivastava\"\n",
        "\n",
        "full_name = f\"I am none other than {first_name} {middle_name} {last_name}. I am a Data Scientist\"\n",
        "print(full_name)\n",
        "\n",
        "my_string = \"Albert Einstein\"\n",
        "\n",
        "print(\"Thomson\" in my_string)\n",
        "print(\"Alberta\" in my_string)"
      ],
      "metadata": {
        "id": "4kGOQb5XS1m_",
        "outputId": "656ca6a4-a098-47fa-cb14-0fe88a6e8478",
        "colab": {
          "base_uri": "https://localhost:8080/"
        }
      },
      "execution_count": 36,
      "outputs": [
        {
          "output_type": "stream",
          "name": "stdout",
          "text": [
            "Artificial Neural Networks\n",
            "Neural Networks\n",
            "Left plus right makes Modi Rahul\n",
            "Rahul Modi\n",
            "I am none other than Vikash  Srivastava. I am a Data Scientist\n",
            "False\n",
            "False\n"
          ]
        }
      ]
    }
  ]
}