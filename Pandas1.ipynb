{
  "nbformat": 4,
  "nbformat_minor": 0,
  "metadata": {
    "colab": {
      "provenance": [],
      "authorship_tag": "ABX9TyOHkSo755JUUpT1v2FnFsJu",
      "include_colab_link": true
    },
    "kernelspec": {
      "name": "python3",
      "display_name": "Python 3"
    },
    "language_info": {
      "name": "python"
    }
  },
  "cells": [
    {
      "cell_type": "markdown",
      "metadata": {
        "id": "view-in-github",
        "colab_type": "text"
      },
      "source": [
        "<a href=\"https://colab.research.google.com/github/Ayushi-Sharma19/Python/blob/main/Pandas1.ipynb\" target=\"_parent\"><img src=\"https://colab.research.google.com/assets/colab-badge.svg\" alt=\"Open In Colab\"/></a>"
      ]
    },
    {
      "cell_type": "code",
      "execution_count": null,
      "metadata": {
        "id": "JbQTiRhurlBC"
      },
      "outputs": [],
      "source": [
        "import pandas as pd\n",
        "import numpy as np\n",
        "\n",
        "series = pd.Series([3, 3, 0, 2, 7], index=['A', 'B', 'C', 'D', 'E'])\n",
        "print(series)\n",
        "\n",
        "some_array = np.random.randint(4, 5, (3, 4))\n",
        "df1 = pd.DataFrame(some_array, columns=[\"Akshay\", \"Devashish\", \"Divya\", \"Mona\"])\n",
        "print(df1)\n",
        "\n",
        "list_of_lists = [[\"Amar\", 18], [\"Adar\", 15], [\"Anthony\", 14]]\n",
        "df2 = pd.DataFrame(list_of_lists, columns=[\"Name\", \"Age\"])\n",
        "print(df2)\n",
        "\n",
        "employee_dict = {\"Employee Name\": [\"Rajeev\", \"Ravi\", \"Amit\"], \"Income\": [200000, 140000, 50000]}\n",
        "df3 = pd.DataFrame(employee_dict)\n",
        "print(df3)\n",
        "\n",
        "list_of_dicts = [{\"A\": 1, \"B\": 2, \"C\": 3}, {\"A\": 10, \"B\": 6, \"C\": 20}]\n",
        "df4 = pd.DataFrame(list_of_dicts)\n",
        "print(df4)\n",
        "\n",
        "actors = [\"Ryan Reynolds\", \"Benedict Cumberbatch\", \"Robert Downey Jr.\"]\n",
        "ages = [48, 52, 54]\n",
        "list_of_tuples = list(zip(actors, ages))\n",
        "df5 = pd.DataFrame(list_of_tuples, columns=[\"Actor\", \"Age\"])\n",
        "print(df5)\n",
        "\n",
        "random_array = np.random.rand(100, 5)\n",
        "df6 = pd.DataFrame(random_array, columns=['A', 'B', 'C', 'D', 'E'])\n",
        "print(df6.head())\n",
        "\n",
        "print(df6.tail())\n",
        "print(df6.columns)\n",
        "print(df6.info())\n",
        "\n",
        "df5.rename(columns={\"Actor\": \"Actor Name\", \"Age\": \"Actor Age\"}, inplace=True)\n",
        "print(df5)"
      ]
    }
  ]
}