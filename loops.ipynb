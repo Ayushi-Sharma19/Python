{
  "nbformat": 4,
  "nbformat_minor": 0,
  "metadata": {
    "colab": {
      "provenance": [],
      "authorship_tag": "ABX9TyNjrs0bCjeP67Ef8clQNus6",
      "include_colab_link": true
    },
    "kernelspec": {
      "name": "python3",
      "display_name": "Python 3"
    },
    "language_info": {
      "name": "python"
    }
  },
  "cells": [
    {
      "cell_type": "markdown",
      "metadata": {
        "id": "view-in-github",
        "colab_type": "text"
      },
      "source": [
        "<a href=\"https://colab.research.google.com/github/Ayushi-Sharma19/Python/blob/main/loops.ipynb\" target=\"_parent\"><img src=\"https://colab.research.google.com/assets/colab-badge.svg\" alt=\"Open In Colab\"/></a>"
      ]
    },
    {
      "cell_type": "code",
      "execution_count": null,
      "metadata": {
        "id": "bWLoNTUC3ZSo",
        "colab": {
          "base_uri": "https://localhost:8080/"
        },
        "outputId": "19eed2a6-691e-4e30-dab6-9a033ac2b2fe"
      },
      "outputs": [
        {
          "output_type": "stream",
          "name": "stdout",
          "text": [
            "House Stark\n",
            "House Arryn\n",
            "House Baratheon\n",
            "House Tully\n",
            "House Greyjoy\n",
            "House Lannister\n",
            "House Tyrell\n",
            "House Martell\n",
            "House Targaryen\n",
            "The house no of house Stark is 0\n",
            "The house no of house Arryn is 1\n",
            "The house no of house Baratheon is 2\n",
            "The house no of house Tully is 3\n",
            "The house no of house Greyjoy is 4\n",
            "The house no of house Lannister is 5\n",
            "The house no of house Tyrell is 6\n",
            "The house no of house Martell is 7\n",
            "The house no of house Targaryen is 8\n"
          ]
        }
      ],
      "source": [
        "loopsgot_houses = ['Stark', 'Arryn', 'Baratheon', 'Tully', 'Greyjoy', 'Lannister', 'Tyrell', 'Martell', 'Targaryen']\n",
        "\n",
        "for house in got_houses:\n",
        "    print(f\"House {house}\")\n",
        "\n",
        "for number, house in enumerate(got_houses):\n",
        "    print(f\"The house no of house {house} is {number}\")"
      ]
    },
    {
      "cell_type": "code",
      "source": [
        "list_of_numbers = [1, 2, 4, 6, 12, 14, 17, 20]\n",
        "\n",
        "for number in list_of_numbers:\n",
        "    squared_number = number**2\n",
        "    print(f\"The square of {number} is {squared_number}\")"
      ],
      "metadata": {
        "colab": {
          "base_uri": "https://localhost:8080/"
        },
        "id": "jtu199Ao7ZLy",
        "outputId": "94f33bc0-bc6d-4072-8de6-62e44dad91fd"
      },
      "execution_count": null,
      "outputs": [
        {
          "output_type": "stream",
          "name": "stdout",
          "text": [
            "The square of 1 is 1\n",
            "The square of 2 is 4\n",
            "The square of 4 is 16\n",
            "The square of 6 is 36\n",
            "The square of 12 is 144\n",
            "The square of 14 is 196\n",
            "The square of 17 is 289\n",
            "The square of 20 is 400\n"
          ]
        }
      ]
    },
    {
      "cell_type": "code",
      "source": [
        "squared_numbers = []\n",
        "for number in list_of_numbers:\n",
        "    squared_number = number**2\n",
        "    squared_numbers.append(squared_number)\n",
        "\n",
        "print(f\"The list of squared numbers is {squared_numbers}\")\n",
        "\n",
        "zipped_dict = dict(zip(list_of_numbers, squared_numbers))\n",
        "print(zipped_dict)"
      ],
      "metadata": {
        "colab": {
          "base_uri": "https://localhost:8080/"
        },
        "id": "lYgj3kxH7ef7",
        "outputId": "07b5d2d0-5a83-4a21-8bd8-a133728d42e5"
      },
      "execution_count": null,
      "outputs": [
        {
          "output_type": "stream",
          "name": "stdout",
          "text": [
            "The list of squared numbers is [1, 4, 16, 36, 144, 196, 289, 400]\n",
            "{1: 1, 2: 4, 4: 16, 6: 36, 12: 144, 14: 196, 17: 289, 20: 400}\n"
          ]
        }
      ]
    },
    {
      "cell_type": "code",
      "source": [
        "for number in list_of_numbers:\n",
        "    if number % 2 == 0:\n",
        "        squared_number = number**2\n",
        "        print(f\"The square of {number} is {squared_number}\")\n",
        "    else:\n",
        "        print(f\"I am an odd number {number}. My master prohibits me from printing the squares of odd numbers. Strange but okay!\")"
      ],
      "metadata": {
        "colab": {
          "base_uri": "https://localhost:8080/"
        },
        "id": "Vl74R_6A7f_o",
        "outputId": "5b230a97-d8a8-4999-db02-47d573a1ac83"
      },
      "execution_count": null,
      "outputs": [
        {
          "output_type": "stream",
          "name": "stdout",
          "text": [
            "I am an odd number 1. My master prohibits me from printing the squares of odd numbers. Strange but okay!\n",
            "The square of 2 is 4\n",
            "The square of 4 is 16\n",
            "The square of 6 is 36\n",
            "The square of 12 is 144\n",
            "The square of 14 is 196\n",
            "I am an odd number 17. My master prohibits me from printing the squares of odd numbers. Strange but okay!\n",
            "The square of 20 is 400\n"
          ]
        }
      ]
    },
    {
      "cell_type": "code",
      "source": [
        "sum_squares = 0\n",
        "for number in list_of_numbers:\n",
        "    sum_squares += number**2\n",
        "\n",
        "print(f\"The sum of the squares of our list of numbers is {sum_squares}\")"
      ],
      "metadata": {
        "colab": {
          "base_uri": "https://localhost:8080/"
        },
        "id": "CanlOjYW7i5g",
        "outputId": "c0bcbd10-c6c8-4443-db5b-e7850b8935e1"
      },
      "execution_count": null,
      "outputs": [
        {
          "output_type": "stream",
          "name": "stdout",
          "text": [
            "The sum of the squares of our list of numbers is 1086\n"
          ]
        }
      ]
    },
    {
      "cell_type": "code",
      "source": [
        "heisenberg_quote = \"I am the one who knocks!\"\n",
        "for char in heisenberg_quote:\n",
        "    print(f\"The character is {char}\")\n",
        "\n",
        "for index, char in enumerate(heisenberg_quote):\n",
        "    print(f\"The index is {index} and the character is {char}\")"
      ],
      "metadata": {
        "colab": {
          "base_uri": "https://localhost:8080/"
        },
        "id": "0CDutOBU7kSh",
        "outputId": "5dda3428-26db-426d-97ce-0d5e5abb9f8f"
      },
      "execution_count": null,
      "outputs": [
        {
          "output_type": "stream",
          "name": "stdout",
          "text": [
            "The character is I\n",
            "The character is  \n",
            "The character is a\n",
            "The character is m\n",
            "The character is  \n",
            "The character is t\n",
            "The character is h\n",
            "The character is e\n",
            "The character is  \n",
            "The character is o\n",
            "The character is n\n",
            "The character is e\n",
            "The character is  \n",
            "The character is w\n",
            "The character is h\n",
            "The character is o\n",
            "The character is  \n",
            "The character is k\n",
            "The character is n\n",
            "The character is o\n",
            "The character is c\n",
            "The character is k\n",
            "The character is s\n",
            "The character is !\n",
            "The index is 0 and the character is I\n",
            "The index is 1 and the character is  \n",
            "The index is 2 and the character is a\n",
            "The index is 3 and the character is m\n",
            "The index is 4 and the character is  \n",
            "The index is 5 and the character is t\n",
            "The index is 6 and the character is h\n",
            "The index is 7 and the character is e\n",
            "The index is 8 and the character is  \n",
            "The index is 9 and the character is o\n",
            "The index is 10 and the character is n\n",
            "The index is 11 and the character is e\n",
            "The index is 12 and the character is  \n",
            "The index is 13 and the character is w\n",
            "The index is 14 and the character is h\n",
            "The index is 15 and the character is o\n",
            "The index is 16 and the character is  \n",
            "The index is 17 and the character is k\n",
            "The index is 18 and the character is n\n",
            "The index is 19 and the character is o\n",
            "The index is 20 and the character is c\n",
            "The index is 21 and the character is k\n",
            "The index is 22 and the character is s\n",
            "The index is 23 and the character is !\n"
          ]
        }
      ]
    },
    {
      "cell_type": "code",
      "source": [
        "words_by_walter = heisenberg_quote.split(' ')\n",
        "for word in words_by_walter:\n",
        "    if word in ['I', 'me']:\n",
        "        print(f\"The word is {word}\")"
      ],
      "metadata": {
        "colab": {
          "base_uri": "https://localhost:8080/"
        },
        "id": "Vt2Ram827n04",
        "outputId": "7ecc2413-9ce5-48d1-93b8-e6b56e0b7928"
      },
      "execution_count": null,
      "outputs": [
        {
          "output_type": "stream",
          "name": "stdout",
          "text": [
            "The word is I\n"
          ]
        }
      ]
    },
    {
      "cell_type": "code",
      "source": [
        "days = ('Monday', 'Tuesday', 'Wednesday', 'Thursday', 'Friday', 'Saturday', 'Sunday')\n",
        "for day in days:\n",
        "    print(f\"Today is {day}\")"
      ],
      "metadata": {
        "colab": {
          "base_uri": "https://localhost:8080/"
        },
        "id": "pTh73XWk7p9L",
        "outputId": "eb047f01-c085-429a-9d6d-e74ee18def5e"
      },
      "execution_count": null,
      "outputs": [
        {
          "output_type": "stream",
          "name": "stdout",
          "text": [
            "Today is Monday\n",
            "Today is Tuesday\n",
            "Today is Wednesday\n",
            "Today is Thursday\n",
            "Today is Friday\n",
            "Today is Saturday\n",
            "Today is Sunday\n"
          ]
        }
      ]
    },
    {
      "cell_type": "code",
      "source": [
        "country_city_river_list = [\n",
        "    ('India', 'New Delhi', 'Ganga'),\n",
        "    ('Australia', 'Canberra', 'Rovers'),\n",
        "    ('United States', 'Washington DC', 'Missouri'),\n",
        "    ('England', 'London', 'Thames')\n",
        "]\n",
        "\n",
        "for country, city, river in country_city_river_list:\n",
        "    print(f\"The capital of the country {country} is {city} and it also has the river {river}.\")"
      ],
      "metadata": {
        "colab": {
          "base_uri": "https://localhost:8080/"
        },
        "id": "64NdQ22c7rN3",
        "outputId": "5167d777-e24f-485e-c7c2-9e2634f73a92"
      },
      "execution_count": null,
      "outputs": [
        {
          "output_type": "stream",
          "name": "stdout",
          "text": [
            "The capital of the country India is New Delhi and it also has the river Ganga.\n",
            "The capital of the country Australia is Canberra and it also has the river Rovers.\n",
            "The capital of the country United States is Washington DC and it also has the river Missouri.\n",
            "The capital of the country England is London and it also has the river Thames.\n"
          ]
        }
      ]
    },
    {
      "cell_type": "code",
      "source": [
        "country_city_dict = {1: 'India', 2: 'USA'}\n",
        "for item in country_city_dict:\n",
        "    print(item, country_city_dict[item])\n",
        "\n",
        "for country, city in country_city_dict.items():\n",
        "    print(f\"The capital of {country} is {city}\")"
      ],
      "metadata": {
        "colab": {
          "base_uri": "https://localhost:8080/"
        },
        "id": "MSiAPA-O7s2v",
        "outputId": "556a0310-89a8-4dfc-a37a-80dc25e33683"
      },
      "execution_count": null,
      "outputs": [
        {
          "output_type": "stream",
          "name": "stdout",
          "text": [
            "1 India\n",
            "2 USA\n",
            "The capital of 1 is India\n",
            "The capital of 2 is USA\n"
          ]
        }
      ]
    },
    {
      "cell_type": "code",
      "source": [
        "x = 0\n",
        "while x < 10:\n",
        "    print(f\"x is currently: {x}\")\n",
        "    print(\"x is still less than 10, adding 1 to x\")\n",
        "    x += 1"
      ],
      "metadata": {
        "colab": {
          "base_uri": "https://localhost:8080/"
        },
        "id": "o2uHNzKp7t7Q",
        "outputId": "1d1280b0-621b-4898-de23-3c8b07b053c7"
      },
      "execution_count": null,
      "outputs": [
        {
          "output_type": "stream",
          "name": "stdout",
          "text": [
            "x is currently: 0\n",
            "x is still less than 10, adding 1 to x\n",
            "x is currently: 1\n",
            "x is still less than 10, adding 1 to x\n",
            "x is currently: 2\n",
            "x is still less than 10, adding 1 to x\n",
            "x is currently: 3\n",
            "x is still less than 10, adding 1 to x\n",
            "x is currently: 4\n",
            "x is still less than 10, adding 1 to x\n",
            "x is currently: 5\n",
            "x is still less than 10, adding 1 to x\n",
            "x is currently: 6\n",
            "x is still less than 10, adding 1 to x\n",
            "x is currently: 7\n",
            "x is still less than 10, adding 1 to x\n",
            "x is currently: 8\n",
            "x is still less than 10, adding 1 to x\n",
            "x is currently: 9\n",
            "x is still less than 10, adding 1 to x\n"
          ]
        }
      ]
    },
    {
      "cell_type": "code",
      "source": [
        "x = 0\n",
        "while x < 10:\n",
        "    print(f\"x is currently: {x}\")\n",
        "    if x == 3:\n",
        "        print(\"x == 3\")\n",
        "        break\n",
        "    x += 1\n",
        "else:\n",
        "    print(\"All done\")\n",
        "    print(\"I am done with the iterations\")"
      ],
      "metadata": {
        "id": "pg-yWZ2p7vK8",
        "outputId": "fc78b860-4ecf-4d26-f258-c36f451e51c9",
        "colab": {
          "base_uri": "https://localhost:8080/"
        }
      },
      "execution_count": null,
      "outputs": [
        {
          "output_type": "stream",
          "name": "stdout",
          "text": [
            "x is currently: 0\n",
            "x is currently: 1\n",
            "x is currently: 2\n",
            "x is currently: 3\n",
            "x == 3\n"
          ]
        }
      ]
    }
  ]
}