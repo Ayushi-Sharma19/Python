{
  "nbformat": 4,
  "nbformat_minor": 0,
  "metadata": {
    "colab": {
      "provenance": [],
      "authorship_tag": "ABX9TyNNCioPYZF+P7GuuDt42JLd",
      "include_colab_link": true
    },
    "kernelspec": {
      "name": "python3",
      "display_name": "Python 3"
    },
    "language_info": {
      "name": "python"
    }
  },
  "cells": [
    {
      "cell_type": "markdown",
      "metadata": {
        "id": "view-in-github",
        "colab_type": "text"
      },
      "source": [
        "<a href=\"https://colab.research.google.com/github/Ayushi-Sharma19/Python/blob/main/Complexity.ipynb\" target=\"_parent\"><img src=\"https://colab.research.google.com/assets/colab-badge.svg\" alt=\"Open In Colab\"/></a>"
      ]
    },
    {
      "cell_type": "code",
      "execution_count": 7,
      "metadata": {
        "id": "J95pIQej8bn0",
        "outputId": "c920d8ac-d820-4524-af59-39c16664f706",
        "colab": {
          "base_uri": "https://localhost:8080/"
        }
      },
      "outputs": [
        {
          "output_type": "stream",
          "name": "stdout",
          "text": [
            "Match found at index: 5\n"
          ]
        }
      ],
      "source": [
        "integer_to_match = 13\n",
        "list_to_search = [1, 3, 5, 8, 12, 13, 15, 16, 18, 20, 22, 30, 40, 50, 55, 67]\n",
        "\n",
        "for i in range(len(list_to_search)):\n",
        "    if integer_to_match == list_to_search[i]:\n",
        "        print(\"Match found at index:\", i)\n",
        "        break"
      ]
    },
    {
      "cell_type": "code",
      "source": [
        "def binary_search(arr, low, high, x):\n",
        "    if high >= low:\n",
        "        mid = (high + low) // 2\n",
        "\n",
        "        if arr[mid] == x:\n",
        "            return mid\n",
        "        elif arr[mid] > x:\n",
        "            return binary_search(arr, low, mid - 1, x)\n",
        "        else:\n",
        "            return binary_search(arr, mid + 1, high, x)\n",
        "    else:\n",
        "        return -1\n",
        "\n",
        "integer_to_match = 13\n",
        "list_to_search = [1, 3, 5, 8, 12, 13, 15, 16, 18, 20, 22, 30, 40, 50, 55, 67]\n",
        "\n",
        "result = binary_search(list_to_search, 0, len(list_to_search) - 1, integer_to_match)\n",
        "print(\"Match found at index:\", result)"
      ],
      "metadata": {
        "id": "3BKmcC-F8g2C",
        "outputId": "c49d6e49-a349-4002-8c58-8bcf465d3f35",
        "colab": {
          "base_uri": "https://localhost:8080/"
        }
      },
      "execution_count": 8,
      "outputs": [
        {
          "output_type": "stream",
          "name": "stdout",
          "text": [
            "Match found at index: 5\n"
          ]
        }
      ]
    },
    {
      "cell_type": "code",
      "source": [
        "print(list_to_search[5] == integer_to_match)"
      ],
      "metadata": {
        "id": "3W7_pyTM8hvU",
        "outputId": "2018733c-a938-4aa0-b538-dc5ea0ec5513",
        "colab": {
          "base_uri": "https://localhost:8080/"
        }
      },
      "execution_count": 9,
      "outputs": [
        {
          "output_type": "stream",
          "name": "stdout",
          "text": [
            "True\n"
          ]
        }
      ]
    },
    {
      "cell_type": "code",
      "source": [
        "list_to_sum = [1, 2, 3, 4, 5, 6, 7]\n",
        "total_sum = 0\n",
        "\n",
        "for num in list_to_sum:\n",
        "    total_sum += num\n",
        "\n",
        "print(total_sum)"
      ],
      "metadata": {
        "id": "6TUMGBdK8idQ",
        "outputId": "4ab32176-35c4-4239-a921-e1160d3654e6",
        "colab": {
          "base_uri": "https://localhost:8080/"
        }
      },
      "execution_count": 10,
      "outputs": [
        {
          "output_type": "stream",
          "name": "stdout",
          "text": [
            "28\n"
          ]
        }
      ]
    },
    {
      "cell_type": "code",
      "source": [
        "list_to_sum = [1, 2, 3, 4, 5, 6, 7]\n",
        "cumulative_sum = []\n",
        "\n",
        "for i in range(len(list_to_sum)):\n",
        "    if i == 0:\n",
        "        cumulative_sum.append(list_to_sum[i])\n",
        "    else:\n",
        "        cumulative_sum.append(cumulative_sum[i - 1] + list_to_sum[i])\n",
        "\n",
        "print(cumulative_sum)"
      ],
      "metadata": {
        "id": "jS2-VI048jY3",
        "outputId": "e8b916d6-ed30-4526-a50f-8df69f8f4347",
        "colab": {
          "base_uri": "https://localhost:8080/"
        }
      },
      "execution_count": 11,
      "outputs": [
        {
          "output_type": "stream",
          "name": "stdout",
          "text": [
            "[1, 3, 6, 10, 15, 21, 28]\n"
          ]
        }
      ]
    },
    {
      "cell_type": "code",
      "source": [
        "A = [1, 11, 4, 9, 16, 2, 23, 45, 77, 15]\n",
        "B = [51, 29, 82, 32, 67, 5, 2, 22, 78, 98]\n",
        "\n",
        "areas = []\n",
        "\n",
        "for a in A:\n",
        "    for b in B:\n",
        "        areas.append(a * b)\n",
        "\n",
        "max_area = max(areas)\n",
        "print(max_area)"
      ],
      "metadata": {
        "id": "wdBKP6wQ8kSl",
        "outputId": "3e230653-9fc3-4e93-d048-81b208c68776",
        "colab": {
          "base_uri": "https://localhost:8080/"
        }
      },
      "execution_count": 12,
      "outputs": [
        {
          "output_type": "stream",
          "name": "stdout",
          "text": [
            "7546\n"
          ]
        }
      ]
    },
    {
      "cell_type": "code",
      "source": [
        "A = [1, 11, 4, 9, 16, 2, 23, 45, 77, 15]\n",
        "B = [51, 29, 82, 32, 67, 5, 2, 22, 78, 98]\n",
        "\n",
        "max_a = max(A)\n",
        "max_b = max(B)\n",
        "\n",
        "max_area = max_a * max_b\n",
        "print(max_area)"
      ],
      "metadata": {
        "id": "5deXZAfy8lAh",
        "outputId": "13265aa1-2dd5-465a-8e8c-9aca74557668",
        "colab": {
          "base_uri": "https://localhost:8080/"
        }
      },
      "execution_count": 13,
      "outputs": [
        {
          "output_type": "stream",
          "name": "stdout",
          "text": [
            "7546\n"
          ]
        }
      ]
    }
  ]
}