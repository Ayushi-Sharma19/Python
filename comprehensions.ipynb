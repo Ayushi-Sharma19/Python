{
  "nbformat": 4,
  "nbformat_minor": 0,
  "metadata": {
    "colab": {
      "provenance": [],
      "authorship_tag": "ABX9TyMu0wWNqVyLroQnt2i1mLCT",
      "include_colab_link": true
    },
    "kernelspec": {
      "name": "python3",
      "display_name": "Python 3"
    },
    "language_info": {
      "name": "python"
    }
  },
  "cells": [
    {
      "cell_type": "markdown",
      "metadata": {
        "id": "view-in-github",
        "colab_type": "text"
      },
      "source": [
        "<a href=\"https://colab.research.google.com/github/Ayushi-Sharma19/Python/blob/main/comprehensions.ipynb\" target=\"_parent\"><img src=\"https://colab.research.google.com/assets/colab-badge.svg\" alt=\"Open In Colab\"/></a>"
      ]
    },
    {
      "cell_type": "code",
      "source": [
        "list_of_numbers = [1, 2, 4, 6, 11, 14, 17, 28]\n",
        "squared_numbers = [number**2 for number in list_of_numbers]\n",
        "print(squared_numbers)\n",
        "\n",
        "even_squared_numbers = [number**2 for number in list_of_numbers if number % 2 == 0]\n",
        "print(even_squared_numbers)\n",
        "\n",
        "odd_squared_numbers = [number**2 for number in list_of_numbers if number % 2 != 0]\n",
        "print(odd_squared_numbers)\n",
        "\n",
        "new_numbers = [number**2 if number % 2 == 0 else number**3 for number in list_of_numbers]\n",
        "print(new_numbers)\n",
        "\n",
        "list_of_numbers = [num2 for num1 in range(4) for num2 in range(3)]\n",
        "print(list_of_numbers)\n",
        "\n",
        "list_of_lists = [[num2 for num2 in range(3)] for num1 in range(4)]\n",
        "print(list_of_lists)"
      ],
      "metadata": {
        "id": "7UPEfD1a0ZI6",
        "outputId": "a21a8b00-fa0e-4508-a39a-24d8a32385e6",
        "colab": {
          "base_uri": "https://localhost:8080/"
        }
      },
      "execution_count": null,
      "outputs": [
        {
          "output_type": "stream",
          "name": "stdout",
          "text": [
            "[1, 4, 16, 36, 121, 196, 289, 784]\n",
            "[4, 16, 36, 196, 784]\n",
            "[1, 121, 289]\n",
            "[1, 4, 16, 36, 1331, 196, 4913, 784]\n",
            "[0, 1, 2, 0, 1, 2, 0, 1, 2, 0, 1, 2]\n",
            "[[0, 1, 2], [0, 1, 2], [0, 1, 2], [0, 1, 2]]\n"
          ]
        }
      ]
    }
  ]
}