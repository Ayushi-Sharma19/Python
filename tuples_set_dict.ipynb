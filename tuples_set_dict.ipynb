{
  "nbformat": 4,
  "nbformat_minor": 0,
  "metadata": {
    "colab": {
      "provenance": [],
      "authorship_tag": "ABX9TyNgH/ImTEXReCbdh9avT/il",
      "include_colab_link": true
    },
    "kernelspec": {
      "name": "python3",
      "display_name": "Python 3"
    },
    "language_info": {
      "name": "python"
    }
  },
  "cells": [
    {
      "cell_type": "markdown",
      "metadata": {
        "id": "view-in-github",
        "colab_type": "text"
      },
      "source": [
        "<a href=\"https://colab.research.google.com/github/Ayushi-Sharma19/Python/blob/main/tuples_set_dict.ipynb\" target=\"_parent\"><img src=\"https://colab.research.google.com/assets/colab-badge.svg\" alt=\"Open In Colab\"/></a>"
      ]
    },
    {
      "cell_type": "code",
      "execution_count": null,
      "metadata": {
        "colab": {
          "base_uri": "https://localhost:8080/"
        },
        "id": "UQH0oz_hzMxN",
        "outputId": "cad0e175-0a1f-47f7-c565-f31f920a3498"
      },
      "outputs": [
        {
          "output_type": "stream",
          "name": "stdout",
          "text": [
            "(1, 'a', 3)\n",
            "<class 'tuple'>\n",
            "('one', 2, 4.53, 'asbc')\n",
            "<class 'tuple'>\n",
            "<class 'tuple'>\n",
            "4\n",
            "one\n",
            "asbc\n",
            "asbc\n",
            "2\n",
            "(2, 4.53)\n",
            "(4.53, 'asbc')\n",
            "('one', 2, 4.53, 'asbc')\n",
            "('one', 2, 4.53, 'asbc')\n",
            "('one', 2, 4.53, 'asbc')\n",
            "[1, 2, 5, 6]\n",
            "1\n",
            "2\n",
            "3\n",
            "1\n"
          ]
        }
      ],
      "source": [
        "my_tuple = (1, 'a', 3)\n",
        "print(my_tuple)\n",
        "\n",
        "print(type(my_tuple))\n",
        "\n",
        "another_tuple = ('one', 2, 4.53, 'asbc')\n",
        "print(another_tuple)\n",
        "\n",
        "single_element_tuple = (1,)\n",
        "print(type(single_element_tuple))\n",
        "\n",
        "my_tuple = 1, 2, 3\n",
        "print(type(my_tuple))\n",
        "\n",
        "my_tuple = (1, 2, 3, 4)\n",
        "print(len(my_tuple))\n",
        "\n",
        "print(another_tuple[0])\n",
        "print(another_tuple[3])\n",
        "print(another_tuple[-1])\n",
        "print(another_tuple[-3])\n",
        "\n",
        "print(another_tuple[1:3])\n",
        "print(another_tuple[2:])\n",
        "print(another_tuple[:6])\n",
        "print(another_tuple[:])\n",
        "print(another_tuple[-4:])\n",
        "\n",
        "random_tuple = (1, 5, 6, 2)\n",
        "print(sorted(random_tuple))\n",
        "\n",
        "my_tuple = (1, 2, 3, 4, 5, 6, 1, 1, 2)\n",
        "print(my_tuple.index(2))\n",
        "print(my_tuple.count(2))\n",
        "print(my_tuple.count(1))\n",
        "\n",
        "my_tuple = (1, 2, 3, 4, 5, 6)\n",
        "print(my_tuple[0])"
      ]
    },
    {
      "cell_type": "code",
      "source": [
        "my_set = set()\n",
        "my_set.add('a')\n",
        "print(my_set)\n",
        "\n",
        "my_set.add(2)\n",
        "print(my_set)\n",
        "\n",
        "my_set.update([5, 7, 9, 3])\n",
        "print(my_set)\n",
        "\n",
        "x = {1, 2, 'a'}\n",
        "x.add(1)\n",
        "print(x)\n",
        "\n",
        "my_set = {1, 2, (2, 3)}\n",
        "print(my_set)\n",
        "\n",
        "non_empty_set = {1, 5, 6, 7, 3, 2}\n",
        "non_empty_set.remove(5)\n",
        "print(non_empty_set)\n",
        "\n",
        "A = {1, 2, 3, 4, 5}\n",
        "B = {4, 5, 6, 7, 8}\n",
        "print(A.union(B))\n",
        "print(A | B)\n",
        "\n",
        "print(A.intersection(B))\n",
        "print(A & B)\n",
        "\n",
        "print(A.difference(B))\n",
        "print(A - B)\n",
        "\n",
        "print(B.difference(A))\n",
        "print(B - A)\n",
        "\n",
        "print(A.symmetric_difference(B))\n",
        "print(A ^ B)"
      ],
      "metadata": {
        "id": "ajKLwq_c27ST",
        "outputId": "5f1681ee-28bf-4af4-db4c-1784e0ef22bc",
        "colab": {
          "base_uri": "https://localhost:8080/"
        }
      },
      "execution_count": null,
      "outputs": [
        {
          "output_type": "stream",
          "name": "stdout",
          "text": [
            "{'a'}\n",
            "{2, 'a'}\n",
            "{2, 3, 5, 7, 'a', 9}\n",
            "{1, 2, 'a'}\n",
            "{(2, 3), 1, 2}\n",
            "{1, 2, 3, 6, 7}\n",
            "{1, 2, 3, 4, 5, 6, 7, 8}\n",
            "{1, 2, 3, 4, 5, 6, 7, 8}\n",
            "{4, 5}\n",
            "{4, 5}\n",
            "{1, 2, 3}\n",
            "{1, 2, 3}\n",
            "{8, 6, 7}\n",
            "{8, 6, 7}\n",
            "{1, 2, 3, 6, 7, 8}\n",
            "{1, 2, 3, 6, 7, 8}\n"
          ]
        }
      ]
    },
    {
      "cell_type": "code",
      "source": [
        "marvel_dict = {\n",
        "    \"Name\": \"Thor\",\n",
        "    \"Place\": \"Asgard\",\n",
        "    \"Weapon\": \"Hammer\",\n",
        "    1: 2,\n",
        "    3: \"Power\",\n",
        "    \"Allies\": [\"Ironman\", \"Captain America\"],\n",
        "    \"abc\": (3, 1, 4)\n",
        "}\n",
        "\n",
        "print(marvel_dict[\"Place\"])\n",
        "print(marvel_dict[\"Weapon\"])\n",
        "print(marvel_dict[\"Allies\"])\n",
        "\n",
        "print(marvel_dict.keys())\n",
        "print(list(marvel_dict.keys()))\n",
        "\n",
        "print(marvel_dict.values())\n",
        "\n",
        "print(marvel_dict.items())\n",
        "\n",
        "marvel_dict[\"Villain\"] = \"Loki\"\n",
        "print(marvel_dict[\"Villain\"])\n",
        "\n",
        "marvel_dict.pop(\"Villain\")"
      ],
      "metadata": {
        "id": "RER0fXw029HG",
        "outputId": "c81747a5-67f8-490a-86d5-6b58548b9c73",
        "colab": {
          "base_uri": "https://localhost:8080/",
          "height": 194
        }
      },
      "execution_count": null,
      "outputs": [
        {
          "output_type": "stream",
          "name": "stdout",
          "text": [
            "Asgard\n",
            "Hammer\n",
            "['Ironman', 'Captain America']\n",
            "dict_keys(['Name', 'Place', 'Weapon', 1, 3, 'Allies', 'abc'])\n",
            "['Name', 'Place', 'Weapon', 1, 3, 'Allies', 'abc']\n",
            "dict_values(['Thor', 'Asgard', 'Hammer', 2, 'Power', ['Ironman', 'Captain America'], (3, 1, 4)])\n",
            "dict_items([('Name', 'Thor'), ('Place', 'Asgard'), ('Weapon', 'Hammer'), (1, 2), (3, 'Power'), ('Allies', ['Ironman', 'Captain America']), ('abc', (3, 1, 4))])\n",
            "Loki\n"
          ]
        },
        {
          "output_type": "execute_result",
          "data": {
            "text/plain": [
              "'Loki'"
            ],
            "application/vnd.google.colaboratory.intrinsic+json": {
              "type": "string"
            }
          },
          "metadata": {},
          "execution_count": 14
        }
      ]
    }
  ]
}