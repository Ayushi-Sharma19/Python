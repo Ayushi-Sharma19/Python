{
  "nbformat": 4,
  "nbformat_minor": 0,
  "metadata": {
    "colab": {
      "provenance": []
    },
    "kernelspec": {
      "name": "python3",
      "display_name": "Python 3"
    },
    "language_info": {
      "name": "python"
    }
  },
  "cells": [
    {
      "cell_type": "code",
      "execution_count": 1,
      "metadata": {
        "colab": {
          "base_uri": "https://localhost:8080/"
        },
        "id": "yLikgnukU1-e",
        "outputId": "d8d71b4a-e183-47ad-fc03-44e1aef36ef4"
      },
      "outputs": [
        {
          "output_type": "stream",
          "name": "stdout",
          "text": [
            "24.5\n",
            "[1, 3, 5.5, 6, 9]\n",
            "[9, 6, 5.5, 3, 1]\n",
            "[6, 9, 1, 3, 5.5]\n",
            "['Argue', 'Burglar', 'Linear', 'Parent', 'shape']\n",
            "['shape', 'Parent', 'Linear', 'Burglar', 'Argue']\n",
            "['A string', 23, 100.232, 'o', True, 'Append me!']\n",
            "['A string', 23, 100.232, 'o', True, 'Append me!', 'Wubba', 'Lubba', 'Dub Dub']\n",
            "Dub Dub\n",
            "['A string', 23, 100.232, 'o', True, 'Append me!', 'Wubba', 'Lubba']\n",
            "23\n",
            "['A string', 100.232, 'o', True, 'Append me!', 'Wubba', 'Lubba']\n",
            "['A string', 100.232, 'o', True, 'Append me!', 'Lubba']\n",
            "1\n",
            "5\n",
            "[1, 3, 5, 6, 9]\n",
            "[9, 6, 5, 3, 1]\n",
            "[1, 3, 5, 6, 9]\n",
            "[2, 3]\n",
            "[5, 6]\n"
          ]
        }
      ],
      "source": [
        "new_list = [6, 9, 1, 3, 5.5]\n",
        "\n",
        "print(sum(new_list))\n",
        "\n",
        "print(sorted(new_list))\n",
        "print(sorted(new_list, reverse=True))\n",
        "\n",
        "print(new_list)\n",
        "\n",
        "string_list = [\"Argue\", \"Burglar\", \"Parent\", \"Linear\", \"shape\"]\n",
        "print(sorted(string_list))\n",
        "print(sorted(string_list, reverse=True))\n",
        "\n",
        "my_list = [\"A string\", 23, 100.232, 'o', True]\n",
        "my_list.append(\"Append me!\")\n",
        "print(my_list)\n",
        "\n",
        "my_list.extend([\"Wubba\", \"Lubba\", \"Dub Dub\"])\n",
        "print(my_list)\n",
        "\n",
        "popped_item = my_list.pop()\n",
        "print(popped_item)\n",
        "print(my_list)\n",
        "\n",
        "popped_index_item = my_list.pop(1)\n",
        "print(popped_index_item)\n",
        "print(my_list)\n",
        "\n",
        "my_list.remove(\"Wubba\")\n",
        "print(my_list)\n",
        "\n",
        "print(my_list.count(\"Append me!\"))\n",
        "\n",
        "print(my_list.index(\"Lubba\"))\n",
        "\n",
        "numeric_list = [6, 9, 1, 3, 5]\n",
        "numeric_list.sort()\n",
        "print(numeric_list)\n",
        "\n",
        "numeric_list.sort(reverse=True)\n",
        "print(numeric_list)\n",
        "\n",
        "numeric_list.reverse()\n",
        "print(numeric_list)\n",
        "\n",
        "nested_list = [1, [2, 3], [4, [5, 6]]]\n",
        "print(nested_list[1])\n",
        "print(nested_list[2][1])"
      ]
    }
  ]
}