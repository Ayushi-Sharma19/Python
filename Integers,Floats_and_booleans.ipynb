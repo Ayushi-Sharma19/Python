{
  "nbformat": 4,
  "nbformat_minor": 0,
  "metadata": {
    "colab": {
      "provenance": []
    },
    "kernelspec": {
      "name": "python3",
      "display_name": "Python 3"
    },
    "language_info": {
      "name": "python"
    }
  },
  "cells": [
    {
      "cell_type": "code",
      "execution_count": 4,
      "metadata": {
        "colab": {
          "base_uri": "https://localhost:8080/"
        },
        "id": "eVM-5PhNA9rG",
        "outputId": "6c8d184e-c748-464d-f2c6-48a2fc86754e"
      },
      "outputs": [
        {
          "output_type": "stream",
          "name": "stdout",
          "text": [
            "5\n",
            "15\n",
            "0.8333333333333334\n",
            "-1\n",
            "0\n",
            "0\n"
          ]
        }
      ],
      "source": [
        "print(2+3)       #addition\n",
        "print(3*5)       #subtraction\n",
        "print(5/6)       #division\n",
        "print(5-6)       #subtraction\n",
        "print(5//9)      #floor division\n",
        "print(20%10)     #modulus"
      ]
    },
    {
      "cell_type": "code",
      "source": [
        "#order of operations followed in python\n",
        "print(2/4+5+7*8-3/6-32/4)\n",
        "print(2/4+(5+7)*8-(3/6-32/4))\n"
      ],
      "metadata": {
        "colab": {
          "base_uri": "https://localhost:8080/"
        },
        "id": "JuclSC8-Cm5Q",
        "outputId": "565d9b19-14ef-467c-e2c1-6af28036bcf2"
      },
      "execution_count": 8,
      "outputs": [
        {
          "output_type": "stream",
          "name": "stdout",
          "text": [
            "53.0\n",
            "104.0\n"
          ]
        }
      ]
    },
    {
      "cell_type": "code",
      "source": [
        "#Scientific notations\n",
        "764E7"
      ],
      "metadata": {
        "colab": {
          "base_uri": "https://localhost:8080/"
        },
        "id": "emPydmlDCxed",
        "outputId": "d1695a82-9b3c-4cff-f2f2-17806380e234"
      },
      "execution_count": 6,
      "outputs": [
        {
          "output_type": "execute_result",
          "data": {
            "text/plain": [
              "7640000000.0"
            ]
          },
          "metadata": {},
          "execution_count": 6
        }
      ]
    },
    {
      "cell_type": "code",
      "source": [
        "#variables and arithmetic operations\n",
        "x=7\n",
        "y=98\n",
        "print(\"X = \",x)\n",
        "print(\"Y = \",y)\n",
        "z=x+y\n",
        "print(z)\n",
        "z=x-y\n",
        "print(z)\n",
        "z=x*y\n",
        "print(z)\n",
        "z=x/y\n",
        "print(z)\n",
        "z=x//y\n",
        "print(z)\n",
        "z=x%y\n",
        "print(z)\n"
      ],
      "metadata": {
        "colab": {
          "base_uri": "https://localhost:8080/"
        },
        "id": "zhLoU1TQDTJ-",
        "outputId": "bb1be796-9433-4064-f75f-92937b49ca98"
      },
      "execution_count": 9,
      "outputs": [
        {
          "output_type": "stream",
          "name": "stdout",
          "text": [
            "X =  7\n",
            "Y =  98\n",
            "105\n",
            "-91\n",
            "686\n",
            "0.07142857142857142\n",
            "0\n",
            "7\n"
          ]
        }
      ]
    },
    {
      "cell_type": "code",
      "source": [
        "#boolean\n",
        "print(2>3)\n",
        "print(12<3)\n",
        "print(2==3)\n",
        "print(2>=3)\n",
        "print(2<=13)"
      ],
      "metadata": {
        "colab": {
          "base_uri": "https://localhost:8080/"
        },
        "id": "5UnRIsqhD7tM",
        "outputId": "bc01f7af-e32b-4b6d-9af5-9087a5e5e3c5"
      },
      "execution_count": 11,
      "outputs": [
        {
          "output_type": "stream",
          "name": "stdout",
          "text": [
            "False\n",
            "False\n",
            "False\n",
            "False\n",
            "True\n"
          ]
        }
      ]
    }
  ]
}