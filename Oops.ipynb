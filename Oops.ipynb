{
  "nbformat": 4,
  "nbformat_minor": 0,
  "metadata": {
    "colab": {
      "provenance": [],
      "authorship_tag": "ABX9TyMeV0VYJMcDIpOe7QVCnFbM",
      "include_colab_link": true
    },
    "kernelspec": {
      "name": "python3",
      "display_name": "Python 3"
    },
    "language_info": {
      "name": "python"
    }
  },
  "cells": [
    {
      "cell_type": "markdown",
      "metadata": {
        "id": "view-in-github",
        "colab_type": "text"
      },
      "source": [
        "<a href=\"https://colab.research.google.com/github/Ayushi-Sharma19/Python/blob/main/Oops.ipynb\" target=\"_parent\"><img src=\"https://colab.research.google.com/assets/colab-badge.svg\" alt=\"Open In Colab\"/></a>"
      ]
    },
    {
      "cell_type": "code",
      "execution_count": null,
      "metadata": {
        "colab": {
          "base_uri": "https://localhost:8080/"
        },
        "id": "2_uiSii84Oc9",
        "outputId": "41c8c9e6-3783-41de-c3da-9972e53c638c"
      },
      "outputs": [
        {
          "output_type": "stream",
          "name": "stdout",
          "text": [
            "<class '__main__.FirstClass'>\n",
            "<class '__main__.FirstClass'>\n"
          ]
        }
      ],
      "source": [
        "class FirstClass:\n",
        "    pass\n",
        "\n",
        "x = FirstClass()\n",
        "print(type(x))\n",
        "\n",
        "y = FirstClass()\n",
        "print(type(y))"
      ]
    },
    {
      "cell_type": "code",
      "source": [
        "class Dog:\n",
        "    def __init__(self, breed, name):\n",
        "        self.breed = breed\n",
        "        self.name = name\n",
        "\n",
        "sam_object = Dog(breed=\"Lab\", name=\"Sam\")\n",
        "frank_object = Dog(breed=\"Husky\", name=\"Frank\")\n",
        "\n",
        "print(sam_object.breed)\n",
        "print(frank_object.name)"
      ],
      "metadata": {
        "colab": {
          "base_uri": "https://localhost:8080/"
        },
        "id": "zbvWqSPx4P1B",
        "outputId": "10b67220-7e6f-4f7f-8397-4f0bc9c6adde"
      },
      "execution_count": null,
      "outputs": [
        {
          "output_type": "stream",
          "name": "stdout",
          "text": [
            "Lab\n",
            "Frank\n"
          ]
        }
      ]
    },
    {
      "cell_type": "code",
      "source": [
        "class Circle:\n",
        "    def __init__(self, radius=1):\n",
        "        self.radius = radius\n",
        "        self.area = 3.14 * radius * radius\n",
        "\n",
        "    def set_radius(self, new_radius):\n",
        "        self.radius = new_radius\n",
        "        self.area = 3.14 * new_radius * new_radius\n",
        "\n",
        "    def get_circumference(self):\n",
        "        return 2 * 3.14 * self.radius\n",
        "\n",
        "c = Circle(2)\n",
        "print(c.area)\n",
        "\n",
        "c.set_radius(10)\n",
        "print(c.get_circumference())\n",
        "\n",
        "print(\"Radius is:\", c.radius)\n",
        "print(\"Area is:\", c.area)\n",
        "print(\"Circumference is:\", c.get_circumference())\n",
        "\n",
        "c.set_radius(4)\n",
        "print(\"Radius is:\", c.radius)\n",
        "print(\"Area is:\", c.area)\n",
        "print(\"Circumference is:\", c.get_circumference())"
      ],
      "metadata": {
        "colab": {
          "base_uri": "https://localhost:8080/"
        },
        "id": "kGriHUw64QWc",
        "outputId": "ddef0692-87ed-45af-f8c5-9cb1b65538af"
      },
      "execution_count": null,
      "outputs": [
        {
          "output_type": "stream",
          "name": "stdout",
          "text": [
            "12.56\n",
            "62.800000000000004\n",
            "Radius is: 10\n",
            "Area is: 314.0\n",
            "Circumference is: 62.800000000000004\n",
            "Radius is: 4\n",
            "Area is: 50.24\n",
            "Circumference is: 25.12\n"
          ]
        }
      ]
    },
    {
      "cell_type": "code",
      "source": [
        "class HouseStark:\n",
        "    def __init__(self, sigil):\n",
        "        self.sigil = sigil\n",
        "\n",
        "    def motto(self):\n",
        "        return f\"House Stark with sigil {self.sigil} has the motto 'Winter is coming'\"\n",
        "\n",
        "class HouseLannister:\n",
        "    def __init__(self, sigil):\n",
        "        self.sigil = sigil\n",
        "\n",
        "    def motto(self):\n",
        "        return f\"House Lannister with sigil {self.sigil} has the motto 'Hear me roar'\"\n",
        "\n",
        "arya = HouseStark('direwolf')\n",
        "tyrion = HouseLannister('golden lion')\n",
        "\n",
        "print(arya.motto())\n",
        "print(tyrion.motto())\n",
        "\n",
        "for warrior in [arya, tyrion]:\n",
        "    print(warrior.motto())\n",
        "\n",
        "def get_motto(warrior):\n",
        "    print(warrior.motto())\n",
        "\n",
        "get_motto(arya)\n",
        "get_motto(tyrion)"
      ],
      "metadata": {
        "colab": {
          "base_uri": "https://localhost:8080/"
        },
        "id": "8cnFVD6A4RO_",
        "outputId": "e470599d-fe06-490b-c3ef-e4bc7a7b0aa4"
      },
      "execution_count": null,
      "outputs": [
        {
          "output_type": "stream",
          "name": "stdout",
          "text": [
            "House Stark with sigil direwolf has the motto 'Winter is coming'\n",
            "House Lannister with sigil golden lion has the motto 'Hear me roar'\n",
            "House Stark with sigil direwolf has the motto 'Winter is coming'\n",
            "House Lannister with sigil golden lion has the motto 'Hear me roar'\n",
            "House Stark with sigil direwolf has the motto 'Winter is coming'\n",
            "House Lannister with sigil golden lion has the motto 'Hear me roar'\n"
          ]
        }
      ]
    },
    {
      "cell_type": "code",
      "source": [
        "try:\n",
        "    print(xgboost)\n",
        "except NameError as e:\n",
        "    print(f\"Error: {e}\")"
      ],
      "metadata": {
        "colab": {
          "base_uri": "https://localhost:8080/"
        },
        "id": "f1uyJ8_r4SNC",
        "outputId": "a067fa56-5ad7-4a16-851d-ef775aad6bb9"
      },
      "execution_count": null,
      "outputs": [
        {
          "output_type": "stream",
          "name": "stdout",
          "text": [
            "Error: name 'xgboost' is not defined\n"
          ]
        }
      ]
    }
  ]
}